{
 "cells": [
  {
   "cell_type": "markdown",
   "metadata": {},
   "source": [
    "___\n",
    "# Ciência dos Dados - PROJETO 1"
   ]
  },
  {
   "cell_type": "markdown",
   "metadata": {},
   "source": [
    "## Felippe Teracini"
   ]
  },
  {
   "cell_type": "markdown",
   "metadata": {},
   "source": [
    "## Analise de acesso a internet no Brasil"
   ]
  },
  {
   "cell_type": "markdown",
   "metadata": {},
   "source": [
    "___\n",
    "## Introdução\n",
    "\n",
    "O objetivo desse projeto é analisar o acesso a internet nas diferentes regiões do Brasil, observando fatores como renda e zona."
   ]
  },
  {
   "cell_type": "markdown",
   "metadata": {},
   "source": [
    "## Perguntas"
   ]
  },
  {
   "cell_type": "markdown",
   "metadata": {},
   "source": [
    "1-Qual região do Brasil teve maior percentual de acesso total em cada ano?"
   ]
  },
  {
   "cell_type": "markdown",
   "metadata": {},
   "source": [
    "2-Qual região do Brasil teve maior aumento percentual de acesso ao longo dos 3 anos?"
   ]
  },
  {
   "cell_type": "markdown",
   "metadata": {},
   "source": [
    "3-Qual nivel de renda teve maior aumento percentual de acesso ao longo dos 3 anos?"
   ]
  },
  {
   "cell_type": "markdown",
   "metadata": {},
   "source": [
    "4-Em qual região o acesso para rendas de ate 2 salarios minimos teve maior aumento percentual ao longo dos 3 anos?"
   ]
  },
  {
   "cell_type": "markdown",
   "metadata": {},
   "source": [
    "5-Qual regiao teve maior aumento percentual de acesso em cada zona?"
   ]
  },
  {
   "cell_type": "markdown",
   "metadata": {},
   "source": [
    "___\n",
    "## Análise e Resultados"
   ]
  },
  {
   "cell_type": "code",
   "execution_count": 2,
   "metadata": {
    "collapsed": true
   },
   "outputs": [],
   "source": [
    "%matplotlib inline\n",
    "import pandas as pd\n",
    "import matplotlib.pyplot as plt\n",
    "import numpy as np\n",
    "import os"
   ]
  },
  {
   "cell_type": "code",
   "execution_count": 3,
   "metadata": {},
   "outputs": [
    {
     "name": "stdout",
     "output_type": "stream",
     "text": [
      "Esperamos trabalhar no diretório\n",
      "C:\\Users\\Felippe\\Documents\\Insper\\Semestre 2\\Ciencia dos Dados\\Projeto 1\\Projeto-1-CD\n"
     ]
    }
   ],
   "source": [
    "print('Esperamos trabalhar no diretório')\n",
    "print(os.getcwd())"
   ]
  },
  {
   "cell_type": "code",
   "execution_count": 4,
   "metadata": {
    "collapsed": true
   },
   "outputs": [],
   "source": [
    "#Se usar o arquivo descompactado\n",
    "#pd.read_csv('DOM2015.csv',sep=',')\n",
    "\n",
    "#Se usar o arquivo compactado como está no dropbox púbico\n",
    "dados2015 = pd.read_csv('DOM2015csv.zip', compression='zip', header=0, sep=',', quotechar='\"')\n",
    "dados2014 = pd.read_csv('DOM2014csv.zip', compression='zip', header=0, sep=',', quotechar='\"')\n",
    "dados2013 = pd.read_csv('DOM2013csv.zip', compression='zip', header=0, sep=',', quotechar='\"')"
   ]
  },
  {
   "cell_type": "markdown",
   "metadata": {
    "collapsed": true
   },
   "source": [
    "Separando as variaveis"
   ]
  },
  {
   "cell_type": "code",
   "execution_count": 5,
   "metadata": {
    "collapsed": true
   },
   "outputs": [],
   "source": [
    "# Região\n",
    "# 2015\n",
    "dados2015.loc[(dados2015.UF <= 17), \"Região\"] = \"Norte\"\n",
    "dados2015.loc[(dados2015.UF > 17) & (dados2015.UF <= 29),\"Região\"] = \"Nordeste\"\n",
    "dados2015.loc[(dados2015.UF > 29) & (dados2015.UF <= 35),\"Região\"] = \"Sudeste\"\n",
    "dados2015.loc[(dados2015.UF > 35) & (dados2015.UF <= 41),\"Região\"] = \"Sul\"\n",
    "dados2015.loc[(dados2015.UF > 41),\"Região\"] = \"Centro_Oeste\"\n",
    "# 2014\n",
    "dados2014.loc[(dados2014.UF <= 17), \"Região\"] = \"Norte\"\n",
    "dados2014.loc[(dados2014.UF > 17) & (dados2014.UF <= 29),\"Região\"] = \"Nordeste\"\n",
    "dados2014.loc[(dados2014.UF > 29) & (dados2014.UF <= 35),\"Região\"] = \"Sudeste\"\n",
    "dados2014.loc[(dados2014.UF > 35) & (dados2014.UF <= 41),\"Região\"] = \"Sul\"\n",
    "dados2014.loc[(dados2014.UF > 41),\"Região\"] = \"Centro_Oeste\"\n",
    "# 2013\n",
    "dados2013.loc[(dados2013.UF <= 17), \"Região\"] = \"Norte\"\n",
    "dados2013.loc[(dados2013.UF > 17) & (dados2013.UF <= 29),\"Região\"] = \"Nordeste\"\n",
    "dados2013.loc[(dados2013.UF > 29) & (dados2013.UF <= 35),\"Região\"] = \"Sudeste\"\n",
    "dados2013.loc[(dados2013.UF > 35) & (dados2013.UF <= 41),\"Região\"] = \"Sul\"\n",
    "dados2013.loc[(dados2013.UF > 41),\"Região\"] = \"Centro_Oeste\"\n",
    "\n",
    "\n",
    "# Zona\n",
    "# 2015\n",
    "dados2015.loc[(dados2015.V4105 == 1), \"Zona\"] = \"Urbana\"\n",
    "dados2015.loc[(dados2015.V4105 == 2), \"Zona\"] = \"Urbana\"\n",
    "dados2015.loc[(dados2015.V4105 == 3), \"Zona\"] = \"Urbana\"\n",
    "dados2015.loc[(dados2015.V4105 == 4), \"Zona\"] = \"Rural\"\n",
    "dados2015.loc[(dados2015.V4105 == 5), \"Zona\"] = \"Rural\"\n",
    "dados2015.loc[(dados2015.V4105 == 6), \"Zona\"] = \"Rural\"\n",
    "dados2015.loc[(dados2015.V4105 == 7), \"Zona\"] = \"Rural\"\n",
    "dados2015.loc[(dados2015.V4105 == 8), \"Zona\"] = \"Rural\"\n",
    "# 2014\n",
    "dados2014.loc[(dados2014.V4105 == 1), \"Zona\"] = \"Urbana\"\n",
    "dados2014.loc[(dados2014.V4105 == 2), \"Zona\"] = \"Urbana\"\n",
    "dados2014.loc[(dados2014.V4105 == 3), \"Zona\"] = \"Urbana\"\n",
    "dados2014.loc[(dados2014.V4105 == 4), \"Zona\"] = \"Rural\"\n",
    "dados2014.loc[(dados2014.V4105 == 5), \"Zona\"] = \"Rural\"\n",
    "dados2014.loc[(dados2014.V4105 == 6), \"Zona\"] = \"Rural\"\n",
    "dados2014.loc[(dados2014.V4105 == 7), \"Zona\"] = \"Rural\"\n",
    "dados2014.loc[(dados2014.V4105 == 8), \"Zona\"] = \"Rural\"\n",
    "# 2013\n",
    "dados2013.loc[(dados2013.V4105 == 1), \"Zona\"] = \"Urbana\"\n",
    "dados2013.loc[(dados2013.V4105 == 2), \"Zona\"] = \"Urbana\"\n",
    "dados2013.loc[(dados2013.V4105 == 3), \"Zona\"] = \"Urbana\"\n",
    "dados2013.loc[(dados2013.V4105 == 4), \"Zona\"] = \"Rural\"\n",
    "dados2013.loc[(dados2013.V4105 == 5), \"Zona\"] = \"Rural\"\n",
    "dados2013.loc[(dados2013.V4105 == 6), \"Zona\"] = \"Rural\"\n",
    "dados2013.loc[(dados2013.V4105 == 7), \"Zona\"] = \"Rural\"\n",
    "dados2013.loc[(dados2013.V4105 == 8), \"Zona\"] = \"Rural\"\n",
    "\n",
    "# Acesso a Internet\n",
    "# 2015\n",
    "dados2015.loc[(dados2015.V02322 == 2), \"Internet\"] = \"Sim\"\n",
    "dados2015.loc[(dados2015.V02322 == 4), \"Internet\"] = \"Não\"\n",
    "# 2014\n",
    "dados2014.loc[(dados2014.V02322 == 2), \"Internet\"] = \"Sim\"\n",
    "dados2014.loc[(dados2014.V02322 == 4), \"Internet\"] = \"Não\"\n",
    "# 2013\n",
    "dados2013.loc[(dados2013.V02322 == 2), \"Internet\"] = \"Sim\"\n",
    "dados2013.loc[(dados2013.V02322 == 4), \"Internet\"] = \"Não\"\n",
    "\n",
    "# Renda\n",
    "# 2015\n",
    "dados2015 = dados2015.rename(columns={\"V4614\": \"Renda\"})\n",
    "# 2014\n",
    "dados2014 = dados2014.rename(columns={\"V4614\": \"Renda\"})\n",
    "# 2013\n",
    "dados2013 = dados2013.rename(columns={\"V4614\": \"Renda\"})\n",
    "\n",
    "# Definição final\n",
    "# 2015\n",
    "dados2015 = dados2015.loc[:,[\"Região\", \"Zona\", \"Internet\", \"Renda\"]]\n",
    "dados2015 = dados2015.dropna()\n",
    "# 2014\n",
    "dados2014 = dados2014.loc[:,[\"Região\", \"Zona\", \"Internet\", \"Renda\"]]\n",
    "dados2014 = dados2014.dropna()\n",
    "# 2013\n",
    "dados2013 = dados2013.loc[:,[\"Região\", \"Zona\", \"Internet\", \"Renda\"]]\n",
    "dados2013 = dados2013.dropna()"
   ]
  },
  {
   "cell_type": "code",
   "execution_count": 6,
   "metadata": {},
   "outputs": [
    {
     "data": {
      "text/html": [
       "<div>\n",
       "<table border=\"1\" class=\"dataframe\">\n",
       "  <thead>\n",
       "    <tr style=\"text-align: right;\">\n",
       "      <th>Internet</th>\n",
       "      <th>Não</th>\n",
       "      <th>Sim</th>\n",
       "    </tr>\n",
       "    <tr>\n",
       "      <th>Zona</th>\n",
       "      <th></th>\n",
       "      <th></th>\n",
       "    </tr>\n",
       "  </thead>\n",
       "  <tbody>\n",
       "    <tr>\n",
       "      <th>Rural</th>\n",
       "      <td>7.587694</td>\n",
       "      <td>3.139330</td>\n",
       "    </tr>\n",
       "    <tr>\n",
       "      <th>Urbana</th>\n",
       "      <td>29.120125</td>\n",
       "      <td>60.152851</td>\n",
       "    </tr>\n",
       "  </tbody>\n",
       "</table>\n",
       "</div>"
      ],
      "text/plain": [
       "Internet        Não        Sim\n",
       "Zona                          \n",
       "Rural      7.587694   3.139330\n",
       "Urbana    29.120125  60.152851"
      ]
     },
     "execution_count": 6,
     "metadata": {},
     "output_type": "execute_result"
    }
   ],
   "source": [
    "# Analise 5 2015\n",
    "# Norte\n",
    "Analise_5_2015_Norte = pd.crosstab(dados2015.Zona[dados2015.Região == \"Norte\"], dados2015.Internet[dados2015.Região == \"Norte\"], normalize=True)*100\n",
    "Analise_5_2015_Norte\n",
    "\n",
    "# Nordeste\n",
    "Analise_5_2015_Nordeste = pd.crosstab(dados2015.Zona[dados2015.Região == \"Nordeste\"], dados2015.Internet[dados2015.Região == \"Nordeste\"], normalize=True)*100\n",
    "Analise_5_2015_Nordeste\n",
    "\n",
    "# Sudeste\n",
    "Analise_5_2015_Sudeste = pd.crosstab(dados2015.Zona[dados2015.Região == \"Sudeste\"], dados2015.Internet[dados2015.Região == \"Sudeste\"], normalize=True)*100\n",
    "Analise_5_2015_Sudeste\n",
    "\n",
    "# Sul\n",
    "Analise_5_2015_Sul = pd.crosstab(dados2015.Zona[dados2015.Região == \"Sul\"], dados2015.Internet[dados2015.Região == \"Sul\"], normalize=True)*100\n",
    "Analise_5_2015_Sul*100\n",
    "\n",
    "# Centro-Oeste\n",
    "Analise_5_2015_Centro_Oeste = pd.crosstab(dados2015.Zona[dados2015.Região == \"Centro_Oeste\"], dados2015.Internet[dados2015.Região == \"Centro_Oeste\"],normalize=True)*100\n",
    "Analise_5_2015_Centro_Oeste\n"
   ]
  },
  {
   "cell_type": "code",
   "execution_count": 7,
   "metadata": {},
   "outputs": [
    {
     "data": {
      "text/plain": [
       "<matplotlib.axes._subplots.AxesSubplot at 0x290813101d0>"
      ]
     },
     "execution_count": 7,
     "metadata": {},
     "output_type": "execute_result"
    },
    {
     "data": {
      "image/png": "[encoded data removed]",
      "text/plain": [
       "<matplotlib.figure.Figure at 0x290f8b18048>"
      ]
     },
     "metadata": {},
     "output_type": "display_data"
    },
    {
     "data": {
      "image/png": "[encoded data removed]",
      "text/plain": [
       "<matplotlib.figure.Figure at 0x290f8b18198>"
      ]
     },
     "metadata": {},
     "output_type": "display_data"
    },
    {
     "data": {
      "image/png": "[encoded data removed]",
      "text/plain": [
       "<matplotlib.figure.Figure at 0x29080fe4518>"
      ]
     },
     "metadata": {},
     "output_type": "display_data"
    },
    {
     "data": {
      "image/png": "[encoded data removed]",
      "text/plain": [
       "<matplotlib.figure.Figure at 0x29080fd2f60>"
      ]
     },
     "metadata": {},
     "output_type": "display_data"
    },
    {
     "data": {
      "image/png": "[encoded data removed]",
      "text/plain": [
       "<matplotlib.figure.Figure at 0x290810f57f0>"
      ]
     },
     "metadata": {},
     "output_type": "display_data"
    }
   ],
   "source": [
    "# Grafico Analise 5 2015\n",
    "Analise_5_2015_Norte.plot(kind=\"bar\", title=\"Norte (2015)\")\n",
    "Analise_5_2015_Nordeste.plot(kind=\"bar\", title=\"Nordeste (2015)\")\n",
    "Analise_5_2015_Sudeste.plot(kind=\"bar\", title=\"Sudeste (2015)\")\n",
    "Analise_5_2015_Sul.plot(kind=\"bar\", title=\"Sul (2015)\")\n",
    "Analise_5_2015_Centro_Oeste.plot(kind=\"bar\", title=\"Centro-Oeste (2015)\")"
   ]
  },
  {
   "cell_type": "code",
   "execution_count": 8,
   "metadata": {
    "collapsed": true
   },
   "outputs": [],
   "source": [
    "#dados2015"
   ]
  },
  {
   "cell_type": "code",
   "execution_count": 9,
   "metadata": {
    "collapsed": true
   },
   "outputs": [],
   "source": [
    "#dados2014"
   ]
  },
  {
   "cell_type": "code",
   "execution_count": 10,
   "metadata": {
    "collapsed": true
   },
   "outputs": [],
   "source": [
    "#dados2013"
   ]
  },
  {
   "cell_type": "markdown",
   "metadata": {},
   "source": [
    "___\n",
    "## Conclusão "
   ]
  },
  {
   "cell_type": "markdown",
   "metadata": {
    "collapsed": true
   },
   "source": [
    "Descreva aqui suas conclusões!"
   ]
  },
  {
   "cell_type": "code",
   "execution_count": null,
   "metadata": {
    "collapsed": true
   },
   "outputs": [],
   "source": []
  }
 ],
 "metadata": {
  "anaconda-cloud": {},
  "kernelspec": {
   "display_name": "Python 3",
   "language": "python",
   "name": "python3"
  },
  "language_info": {
   "codemirror_mode": {
    "name": "ipython",
    "version": 3
   },
   "file_extension": ".py",
   "mimetype": "text/x-python",
   "name": "python",
   "nbconvert_exporter": "python",
   "pygments_lexer": "ipython3",
   "version": "3.6.0"
  }
 },
 "nbformat": 4,
 "nbformat_minor": 1
}
