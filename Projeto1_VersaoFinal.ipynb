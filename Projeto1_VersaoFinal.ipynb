{
 "cells": [
  {
   "cell_type": "markdown",
   "metadata": {},
   "source": [
    "___\n",
    "# Ciência dos Dados - PROJETO 1"
   ]
  },
  {
   "cell_type": "markdown",
   "metadata": {},
   "source": [
    "## Felippe Teracini\n",
    "___"
   ]
  },
  {
   "cell_type": "markdown",
   "metadata": {},
   "source": [
    "## Análise de acesso à Internet"
   ]
  },
  {
   "cell_type": "markdown",
   "metadata": {},
   "source": [
    "___\n",
    "## Introdução\n",
    "\n",
    "   O objetivo desse projeto é comparar a região Sudeste e Norte em termos de acesso à Internet, com o intuito de observar como ele diferiu nessas regiões ao longo de três anos (2013-2015), analisando diversos fatores como porcentagem de domícilios em diferentes zonas, percentual de acesso à internet nessas zonas e anàlise de compatibilidade desses percentuais gerais, com os percentuais de faixas de rendas abaixo de 2 salários mínimos."
   ]
  },
  {
   "cell_type": "markdown",
   "metadata": {},
   "source": [
    "# Pergunta"
   ]
  },
  {
   "cell_type": "markdown",
   "metadata": {},
   "source": [
    "O percentual de acesso à internet nas regiões Norte e Sudeste é equivalente para toda as faixas de renda?"
   ]
  },
  {
   "cell_type": "markdown",
   "metadata": {},
   "source": [
    "___\n",
    "## Análise e Resultados"
   ]
  },
  {
   "cell_type": "code",
   "execution_count": 256,
   "metadata": {
    "collapsed": true
   },
   "outputs": [],
   "source": [
    "%matplotlib inline\n",
    "import pandas as pd\n",
    "import matplotlib.pyplot as plt\n",
    "import numpy as np\n",
    "import os"
   ]
  },
  {
   "cell_type": "code",
   "execution_count": 257,
   "metadata": {},
   "outputs": [
    {
     "name": "stdout",
     "output_type": "stream",
     "text": [
      "Esperamos trabalhar no diretório\n",
      "C:\\Users\\Felippe\\Documents\\Insper\\Semestre 2\\Ciencia dos Dados\\Projeto 1\\Projeto-1-CD\n"
     ]
    }
   ],
   "source": [
    "print('Esperamos trabalhar no diretório')\n",
    "print(os.getcwd())"
   ]
  },
  {
   "cell_type": "code",
   "execution_count": 258,
   "metadata": {
    "collapsed": true
   },
   "outputs": [],
   "source": [
    "#Se usar o arquivo compactado como está no dropbox púbico\n",
    "dados2015 = pd.read_csv('DOM2015csv.zip', compression='zip', header=0, sep=',', quotechar='\"')\n",
    "dados2013 = pd.read_csv('DOM2013csv.zip', compression='zip', header=0, sep=',', quotechar='\"')"
   ]
  },
  {
   "cell_type": "markdown",
   "metadata": {
    "collapsed": true
   },
   "source": [
    "Separação de variáveis"
   ]
  },
  {
   "cell_type": "code",
   "execution_count": 259,
   "metadata": {
    "collapsed": true
   },
   "outputs": [],
   "source": [
    "# Região\n",
    "# 2015\n",
    "dados2015.loc[(dados2015.UF <= 17), \"Região\"] = \"Norte\"\n",
    "dados2015.loc[(dados2015.UF > 29) & (dados2015.UF <= 35),\"Região\"] = \"Sudeste\"\n",
    "# 2013\n",
    "dados2013.loc[(dados2013.UF <= 17), \"Região\"] = \"Norte\"\n",
    "dados2013.loc[(dados2013.UF > 29) & (dados2013.UF <= 35),\"Região\"] = \"Sudeste\"\n",
    "\n",
    "\n",
    "# Zona\n",
    "# 2015\n",
    "dados2015.loc[(dados2015.V4105 == 1), \"Zona\"] = \"Urbana\"\n",
    "dados2015.loc[(dados2015.V4105 == 2), \"Zona\"] = \"Urbana\"\n",
    "dados2015.loc[(dados2015.V4105 == 3), \"Zona\"] = \"Urbana\"\n",
    "dados2015.loc[(dados2015.V4105 == 4), \"Zona\"] = \"Rural\"\n",
    "dados2015.loc[(dados2015.V4105 == 5), \"Zona\"] = \"Rural\"\n",
    "dados2015.loc[(dados2015.V4105 == 6), \"Zona\"] = \"Rural\"\n",
    "dados2015.loc[(dados2015.V4105 == 7), \"Zona\"] = \"Rural\"\n",
    "dados2015.loc[(dados2015.V4105 == 8), \"Zona\"] = \"Rural\"\n",
    "# 2013\n",
    "dados2013.loc[(dados2013.V4105 == 1), \"Zona\"] = \"Urbana\"\n",
    "dados2013.loc[(dados2013.V4105 == 2), \"Zona\"] = \"Urbana\"\n",
    "dados2013.loc[(dados2013.V4105 == 3), \"Zona\"] = \"Urbana\"\n",
    "dados2013.loc[(dados2013.V4105 == 4), \"Zona\"] = \"Rural\"\n",
    "dados2013.loc[(dados2013.V4105 == 5), \"Zona\"] = \"Rural\"\n",
    "dados2013.loc[(dados2013.V4105 == 6), \"Zona\"] = \"Rural\"\n",
    "dados2013.loc[(dados2013.V4105 == 7), \"Zona\"] = \"Rural\"\n",
    "dados2013.loc[(dados2013.V4105 == 8), \"Zona\"] = \"Rural\"\n",
    "\n",
    "\n",
    "# Acesso a Internet\n",
    "# 2015\n",
    "dados2015.loc[(dados2015.V02322 == 2), \"Internet\"] = \"Sim\"\n",
    "dados2015.loc[(dados2015.V02322 == 4), \"Internet\"] = \"Não\"\n",
    "# 2013\n",
    "dados2013.loc[(dados2013.V02322 == 2), \"Internet\"] = \"Sim\"\n",
    "dados2013.loc[(dados2013.V02322 == 4), \"Internet\"] = \"Não\"\n",
    "\n",
    "\n",
    "# Renda\n",
    "# 2015\n",
    "dados2015 = dados2015.rename(columns={\"V4614\": \"Renda\"})\n",
    "# 2013\n",
    "dados2013 = dados2013.rename(columns={\"V4614\": \"Renda\"})\n",
    "\n",
    "# Definição final\n",
    "# 2015\n",
    "dados2015 = dados2015.loc[:,[\"Região\", \"Zona\", \"Internet\", \"Renda\"]]\n",
    "dados2015 = dados2015.dropna()\n",
    "# 2013\n",
    "dados2013 = dados2013.loc[:,[\"Região\", \"Zona\", \"Internet\", \"Renda\"]]\n",
    "dados2013 = dados2013.dropna()"
   ]
  },
  {
   "cell_type": "code",
   "execution_count": 260,
   "metadata": {},
   "outputs": [],
   "source": [
    "#dados2013"
   ]
  },
  {
   "cell_type": "code",
   "execution_count": 261,
   "metadata": {},
   "outputs": [],
   "source": [
    "#dados2014"
   ]
  },
  {
   "cell_type": "code",
   "execution_count": 262,
   "metadata": {},
   "outputs": [],
   "source": [
    "#dados2015"
   ]
  },
  {
   "cell_type": "markdown",
   "metadata": {},
   "source": [
    "# Análise de domicílios por zona"
   ]
  },
  {
   "cell_type": "markdown",
   "metadata": {},
   "source": [
    "Os gráficos à seguir demonstram a porcentagem de domicílos em cada região que se situam nas diferentes zonas ao longo dos 3 anos."
   ]
  },
  {
   "cell_type": "code",
   "execution_count": 293,
   "metadata": {},
   "outputs": [
    {
     "data": {
      "image/png": "[encoded data removed]",
      "text/plain": [
       "<matplotlib.figure.Figure at 0x1bea9a38198>"
      ]
     },
     "metadata": {},
     "output_type": "display_data"
    },
    {
     "data": {
      "image/png": "[encoded data removed]",
      "text/plain": [
       "<matplotlib.figure.Figure at 0x1beacc80be0>"
      ]
     },
     "metadata": {},
     "output_type": "display_data"
    }
   ],
   "source": [
    "# Comparação Populacional entre as Regiões\n",
    "\n",
    "fig = plt.figure(figsize=(10,5))\n",
    "\n",
    "plt.subplot(121)\n",
    "Analise_Norte = dados2013.Zona[dados2013.Região == 'Norte'].value_counts()\n",
    "Analise_Norte.plot(kind='pie', autopct=\"%.2f\",legend=False, colors=(\"#47d147\", \"#2eb82e\"))\n",
    "plt.title('Norte - % de domicílios em cada Zona (2013)')\n",
    "\n",
    "plt.subplot(122)\n",
    "Analise_Sudeste = dados2013.Zona[dados2013.Região == 'Sudeste'].value_counts()\n",
    "Analise_Sudeste.plot(kind='pie', autopct=\"%.2f\",legend=False, colors=(\"#00BFFF\", \"#1E90FF\"))\n",
    "plt.title('Sudeste - % de domicílios em cada Zona (2013)')\n",
    "\n",
    "plt.tight_layout()\n",
    "plt.show()\n",
    "\n",
    "fig = plt.figure(figsize=(10,5))\n",
    "\n",
    "plt.subplot(121)\n",
    "Analise_Norte = dados2015.Zona[dados2015.Região == 'Norte'].value_counts()\n",
    "Analise_Norte.plot(kind='pie', autopct=\"%.2f\",legend=False, colors=(\"#47d147\", \"#2eb82e\"))\n",
    "plt.title('Norte - % de domicílios em cada Zona (2015)')\n",
    "\n",
    "plt.subplot(122)\n",
    "Analise_Sudeste = dados2015.Zona[dados2015.Região == 'Sudeste'].value_counts()\n",
    "Analise_Sudeste.plot(kind='pie', autopct=\"%.2f\",legend=False, colors=(\"#00BFFF\", \"#1E90FF\"))\n",
    "plt.title('Sudeste - % de domicílios em cada Zona (2015)')\n",
    "\n",
    "plt.tight_layout()\n",
    "plt.show()"
   ]
  },
  {
   "cell_type": "markdown",
   "metadata": {},
   "source": [
    "A partir da análise dos gráficos é possível perceber que nenhuma das duas regiões tiveram grande alteração em sua distribuição de\n",
    "domícilios por zona. A região Norte manteve a sua maior porcentagem de zona rural em relação a região Sudeste, e o inverso ocorreu\n",
    "em relação a zona urbana."
   ]
  },
  {
   "cell_type": "markdown",
   "metadata": {},
   "source": [
    "# Análise de acesso à internet por zona"
   ]
  },
  {
   "cell_type": "markdown",
   "metadata": {},
   "source": [
    "Os gráficos situados abaixo analisam o percentual de pessoas que tem e não tem acesso à internet, nas diversas zonas e em ambas as regiões."
   ]
  },
  {
   "cell_type": "code",
   "execution_count": 347,
   "metadata": {},
   "outputs": [
    {
     "data": {
      "image/png": "[encoded data removed]",
      "text/plain": [
       "<matplotlib.figure.Figure at 0x1beae3976d8>"
      ]
     },
     "metadata": {},
     "output_type": "display_data"
    },
    {
     "data": {
      "image/png": "[encoded data removed]",
      "text/plain": [
       "<matplotlib.figure.Figure at 0x1beacd6d6a0>"
      ]
     },
     "metadata": {},
     "output_type": "display_data"
    }
   ],
   "source": [
    "# Comparação de Zona para Região Norte\n",
    "\n",
    "#2013\n",
    "Analise_2013_Norte = (pd.crosstab(dados2013.Zona[dados2013.Região == \"Norte\"], dados2013.Internet[dados2013.Região == \"Norte\"], margins=True, rownames=['Zona'], colnames=['Internet'], normalize='index')*100).round(decimals=0)\n",
    "plot_2013 = Analise_2013_Norte.plot(kind='bar', stacked=True,title='Norte - Acesso à Internet (2013)', color=(\"#e60000\", \"#2eb82e\"))\n",
    "plt.ylabel('Freq.Relativa (em %)')\n",
    "ax = plt.subplot(111)\n",
    "box = ax.get_position()\n",
    "ax.set_position([box.x0, box.y0, box.width * 0.8, box.height])\n",
    "ax.legend(loc='center left', bbox_to_anchor=(1, 0.5))\n",
    "\n",
    "#2015\n",
    "Analise_2015_Norte = (pd.crosstab(dados2015.Zona[dados2015.Região == \"Norte\"], dados2015.Internet[dados2015.Região == \"Norte\"], margins=True, rownames=['Zona'], colnames=['Internet'], normalize='index')*100).round(decimals=0)\n",
    "plot_2015 = Analise_2015_Norte.plot(kind='bar', stacked=True,title='Norte - Acesso à Internet (2015)', color=(\"#e60000\", \"#2eb82e\"))\n",
    "plt.ylabel('Freq.Relativa (em %)')\n",
    "ax = plt.subplot(111)\n",
    "box = ax.get_position()\n",
    "ax.set_position([box.x0, box.y0, box.width * 0.8, box.height])\n",
    "ax.legend(loc='center left', bbox_to_anchor=(1, 0.5))\n",
    "plt.show()"
   ]
  },
  {
   "cell_type": "code",
   "execution_count": 265,
   "metadata": {},
   "outputs": [
    {
     "data": {
      "text/html": [
       "<div>\n",
       "<table border=\"1\" class=\"dataframe\">\n",
       "  <thead>\n",
       "    <tr style=\"text-align: right;\">\n",
       "      <th>Internet</th>\n",
       "      <th>Não</th>\n",
       "      <th>Sim</th>\n",
       "    </tr>\n",
       "    <tr>\n",
       "      <th>Zona</th>\n",
       "      <th></th>\n",
       "      <th></th>\n",
       "    </tr>\n",
       "  </thead>\n",
       "  <tbody>\n",
       "    <tr>\n",
       "      <th>Rural</th>\n",
       "      <td>93.0</td>\n",
       "      <td>7.0</td>\n",
       "    </tr>\n",
       "    <tr>\n",
       "      <th>Urbana</th>\n",
       "      <td>53.0</td>\n",
       "      <td>47.0</td>\n",
       "    </tr>\n",
       "    <tr>\n",
       "      <th>All</th>\n",
       "      <td>62.0</td>\n",
       "      <td>38.0</td>\n",
       "    </tr>\n",
       "  </tbody>\n",
       "</table>\n",
       "</div>"
      ],
      "text/plain": [
       "Internet   Não   Sim\n",
       "Zona                \n",
       "Rural     93.0   7.0\n",
       "Urbana    53.0  47.0\n",
       "All       62.0  38.0"
      ]
     },
     "execution_count": 265,
     "metadata": {},
     "output_type": "execute_result"
    }
   ],
   "source": [
    "Analise_2013_Norte"
   ]
  },
  {
   "cell_type": "code",
   "execution_count": 266,
   "metadata": {},
   "outputs": [
    {
     "data": {
      "text/html": [
       "<div>\n",
       "<table border=\"1\" class=\"dataframe\">\n",
       "  <thead>\n",
       "    <tr style=\"text-align: right;\">\n",
       "      <th>Internet</th>\n",
       "      <th>Não</th>\n",
       "      <th>Sim</th>\n",
       "    </tr>\n",
       "    <tr>\n",
       "      <th>Zona</th>\n",
       "      <th></th>\n",
       "      <th></th>\n",
       "    </tr>\n",
       "  </thead>\n",
       "  <tbody>\n",
       "    <tr>\n",
       "      <th>Rural</th>\n",
       "      <td>87.0</td>\n",
       "      <td>13.0</td>\n",
       "    </tr>\n",
       "    <tr>\n",
       "      <th>Urbana</th>\n",
       "      <td>43.0</td>\n",
       "      <td>57.0</td>\n",
       "    </tr>\n",
       "    <tr>\n",
       "      <th>All</th>\n",
       "      <td>52.0</td>\n",
       "      <td>48.0</td>\n",
       "    </tr>\n",
       "  </tbody>\n",
       "</table>\n",
       "</div>"
      ],
      "text/plain": [
       "Internet   Não   Sim\n",
       "Zona                \n",
       "Rural     87.0  13.0\n",
       "Urbana    43.0  57.0\n",
       "All       52.0  48.0"
      ]
     },
     "execution_count": 266,
     "metadata": {},
     "output_type": "execute_result"
    }
   ],
   "source": [
    "Analise_2015_Norte"
   ]
  },
  {
   "cell_type": "markdown",
   "metadata": {},
   "source": [
    "Os gráficos e tabelas acima demonstram o aumento de acesso à internet nas zonas rural e urbana na região Norte. Fazendo análises, é possível perceber que houve um crescimento de aproximadamente 26% do percentual total de domícilios que tem acesso à internet, enquanto a zona urbana teve um crescimento de 21% nesse aspecto e a zona rural um aumento de 8,5%."
   ]
  },
  {
   "cell_type": "code",
   "execution_count": 346,
   "metadata": {},
   "outputs": [
    {
     "data": {
      "image/png": "[encoded data removed]",
      "text/plain": [
       "<matplotlib.figure.Figure at 0x1beaf50bfd0>"
      ]
     },
     "metadata": {},
     "output_type": "display_data"
    },
    {
     "data": {
      "image/png": "[encoded data removed]",
      "text/plain": [
       "<matplotlib.figure.Figure at 0x1beaeaebbe0>"
      ]
     },
     "metadata": {},
     "output_type": "display_data"
    }
   ],
   "source": [
    "# Comparação de Zona para Região Sudeste\n",
    "\n",
    "#2013\n",
    "Analise_2013_Sudeste = (pd.crosstab(dados2013.Zona[dados2013.Região == \"Sudeste\"], dados2013.Internet[dados2013.Região == \"Sudeste\"], margins=True, rownames=['Zona'], colnames=['Internet'], normalize='index')*100).round(decimals=0)\n",
    "plot_2013 = Analise_2013_Sudeste.plot(kind='bar', stacked=True,title='Sudeste - Acesso à Internet (2013)', color=(\"#e60000\", \"#2eb82e\"))\n",
    "plt.ylabel('Freq.Relativa (em %)')\n",
    "ax = plt.subplot(111)\n",
    "box = ax.get_position()\n",
    "ax.set_position([box.x0, box.y0, box.width * 0.8, box.height])\n",
    "ax.legend(loc='center left', bbox_to_anchor=(1, 0.5))\n",
    "\n",
    "#2015\n",
    "Analise_2015_Sudeste = (pd.crosstab(dados2015.Zona[dados2015.Região == \"Sudeste\"], dados2015.Internet[dados2015.Região == \"Sudeste\"], margins=True, rownames=['Zona'], colnames=['Internet'], normalize='index')*100).round(decimals=0)\n",
    "plot_2015 = Analise_2015_Sudeste.plot(kind='bar', stacked=True,title='Sudeste - Acesso à Internet (2015)', color=(\"#e60000\", \"#2eb82e\"))\n",
    "plt.ylabel('Freq.Relativa (em %)')\n",
    "ax = plt.subplot(111)\n",
    "box = ax.get_position()\n",
    "ax.set_position([box.x0, box.y0, box.width * 0.8, box.height])\n",
    "ax.legend(loc='center left', bbox_to_anchor=(1, 0.5))\n",
    "plt.show()"
   ]
  },
  {
   "cell_type": "code",
   "execution_count": 268,
   "metadata": {},
   "outputs": [
    {
     "data": {
      "text/html": [
       "<div>\n",
       "<table border=\"1\" class=\"dataframe\">\n",
       "  <thead>\n",
       "    <tr style=\"text-align: right;\">\n",
       "      <th>Internet</th>\n",
       "      <th>Não</th>\n",
       "      <th>Sim</th>\n",
       "    </tr>\n",
       "    <tr>\n",
       "      <th>Zona</th>\n",
       "      <th></th>\n",
       "      <th></th>\n",
       "    </tr>\n",
       "  </thead>\n",
       "  <tbody>\n",
       "    <tr>\n",
       "      <th>Rural</th>\n",
       "      <td>81.0</td>\n",
       "      <td>19.0</td>\n",
       "    </tr>\n",
       "    <tr>\n",
       "      <th>Urbana</th>\n",
       "      <td>41.0</td>\n",
       "      <td>59.0</td>\n",
       "    </tr>\n",
       "    <tr>\n",
       "      <th>All</th>\n",
       "      <td>43.0</td>\n",
       "      <td>57.0</td>\n",
       "    </tr>\n",
       "  </tbody>\n",
       "</table>\n",
       "</div>"
      ],
      "text/plain": [
       "Internet   Não   Sim\n",
       "Zona                \n",
       "Rural     81.0  19.0\n",
       "Urbana    41.0  59.0\n",
       "All       43.0  57.0"
      ]
     },
     "execution_count": 268,
     "metadata": {},
     "output_type": "execute_result"
    }
   ],
   "source": [
    "Analise_2013_Sudeste"
   ]
  },
  {
   "cell_type": "code",
   "execution_count": 269,
   "metadata": {},
   "outputs": [
    {
     "data": {
      "text/html": [
       "<div>\n",
       "<table border=\"1\" class=\"dataframe\">\n",
       "  <thead>\n",
       "    <tr style=\"text-align: right;\">\n",
       "      <th>Internet</th>\n",
       "      <th>Não</th>\n",
       "      <th>Sim</th>\n",
       "    </tr>\n",
       "    <tr>\n",
       "      <th>Zona</th>\n",
       "      <th></th>\n",
       "      <th></th>\n",
       "    </tr>\n",
       "  </thead>\n",
       "  <tbody>\n",
       "    <tr>\n",
       "      <th>Rural</th>\n",
       "      <td>71.0</td>\n",
       "      <td>29.0</td>\n",
       "    </tr>\n",
       "    <tr>\n",
       "      <th>Urbana</th>\n",
       "      <td>32.0</td>\n",
       "      <td>68.0</td>\n",
       "    </tr>\n",
       "    <tr>\n",
       "      <th>All</th>\n",
       "      <td>35.0</td>\n",
       "      <td>65.0</td>\n",
       "    </tr>\n",
       "  </tbody>\n",
       "</table>\n",
       "</div>"
      ],
      "text/plain": [
       "Internet   Não   Sim\n",
       "Zona                \n",
       "Rural     71.0  29.0\n",
       "Urbana    32.0  68.0\n",
       "All       35.0  65.0"
      ]
     },
     "execution_count": 269,
     "metadata": {},
     "output_type": "execute_result"
    }
   ],
   "source": [
    "Analise_2015_Sudeste"
   ]
  },
  {
   "cell_type": "markdown",
   "metadata": {},
   "source": [
    "Os gráficos e tabelas acima demonstram o aumento de acesso à internet nas zonas rural e urbana na região Sudeste. Fazendo análises, é possível perceber que houve um crescimento de aproximadamente 14% do percentual total de domícilios que tem acesso à internet, enquanto a zona urbana teve um crescimento de 15% nesse aspecto e a zona rural um aumento de 52%."
   ]
  },
  {
   "cell_type": "markdown",
   "metadata": {},
   "source": [
    "Comparando as duas análises anteriores, é perceptível que ambas as regiões tiveram um aumento no acesso á internet ao longo dos 3 anos, sendo que a região Norte teve um aumento percentual maior. Os dados mais impressionantes são que na região Norte o maior percentual de crescimento foi na zona urbana, enquanto que na região Sudeste, esse crescimento foi maior na zona rural."
   ]
  },
  {
   "cell_type": "markdown",
   "metadata": {},
   "source": [
    "# Analise Quantitativa"
   ]
  },
  {
   "cell_type": "markdown",
   "metadata": {},
   "source": [
    "O propósito dos gráficos abaixo é de analisar se os aumentos percentuais observados anteriormente se concretizam para faixas de renda de até um salário mínimo, de um a dois salários mínimos e de mais que dois salários mínimos. "
   ]
  },
  {
   "cell_type": "code",
   "execution_count": 270,
   "metadata": {},
   "outputs": [
    {
     "data": {
      "text/html": [
       "<div>\n",
       "<table border=\"1\" class=\"dataframe\">\n",
       "  <thead>\n",
       "    <tr style=\"text-align: right;\">\n",
       "      <th></th>\n",
       "      <th>Até 1 S.M</th>\n",
       "      <th>Entre 1 e 2 S.M</th>\n",
       "      <th>Mais que 2 S.M</th>\n",
       "    </tr>\n",
       "  </thead>\n",
       "  <tbody>\n",
       "    <tr>\n",
       "      <th>2013 Urbana</th>\n",
       "      <td>21.839080</td>\n",
       "      <td>27.542034</td>\n",
       "      <td>59.786748</td>\n",
       "    </tr>\n",
       "    <tr>\n",
       "      <th>2013 Rural</th>\n",
       "      <td>2.286282</td>\n",
       "      <td>3.869246</td>\n",
       "      <td>13.615734</td>\n",
       "    </tr>\n",
       "    <tr>\n",
       "      <th>2015 Urbana</th>\n",
       "      <td>32.639546</td>\n",
       "      <td>46.843336</td>\n",
       "      <td>69.125869</td>\n",
       "    </tr>\n",
       "    <tr>\n",
       "      <th>2015 Rural</th>\n",
       "      <td>4.554264</td>\n",
       "      <td>9.500805</td>\n",
       "      <td>22.570016</td>\n",
       "    </tr>\n",
       "  </tbody>\n",
       "</table>\n",
       "</div>"
      ],
      "text/plain": [
       "             Até 1 S.M  Entre 1 e 2 S.M  Mais que 2 S.M\n",
       "2013 Urbana  21.839080        27.542034       59.786748\n",
       "2013 Rural    2.286282         3.869246       13.615734\n",
       "2015 Urbana  32.639546        46.843336       69.125869\n",
       "2015 Rural    4.554264         9.500805       22.570016"
      ]
     },
     "execution_count": 270,
     "metadata": {},
     "output_type": "execute_result"
    }
   ],
   "source": [
    "# Analisando a Renda em relação aos dados anteriores\n",
    "\n",
    "# Norte\n",
    "N_2013_1_U = dados2013.Internet[(dados2013.Zona == \"Urbana\") & (dados2013.Região == \"Norte\") & (dados2013.Renda <= 678)].value_counts(normalize=True)[1]*100\n",
    "N_2013_2_U = dados2013.Internet[(dados2013.Zona == \"Urbana\") & (dados2013.Região == \"Norte\") & (dados2013.Renda <= 1356) & (dados2015.Renda > 678)].value_counts(normalize=True)[1]*100\n",
    "N_2013_3_U = dados2013.Internet[(dados2013.Zona == \"Urbana\") & (dados2013.Região == \"Norte\") & (dados2013.Renda > 1356)].value_counts(normalize=True)[0]*100\n",
    "\n",
    "N_2013_1_R = dados2013.Internet[(dados2013.Zona == \"Rural\") & (dados2013.Região == \"Norte\") & (dados2013.Renda <= 678)].value_counts(normalize=True)[1]*100\n",
    "N_2013_2_R = dados2013.Internet[(dados2013.Zona == \"Rural\") & (dados2013.Região == \"Norte\") & (dados2013.Renda <= 1356) & (dados2015.Renda > 678)].value_counts(normalize=True)[1]*100\n",
    "N_2013_3_R = dados2013.Internet[(dados2013.Zona == \"Rural\") & (dados2013.Região == \"Norte\") & (dados2013.Renda > 1356)].value_counts(normalize=True)[1]*100\n",
    "\n",
    "N_2015_1_U = dados2015.Internet[(dados2015.Zona == \"Urbana\") & (dados2015.Região == \"Norte\") & (dados2015.Renda <= 788)].value_counts(normalize=True)[1]*100\n",
    "N_2015_2_U = dados2015.Internet[(dados2015.Zona == \"Urbana\") & (dados2015.Região == \"Norte\") & (dados2015.Renda <= 1576) & (dados2015.Renda > 788)].value_counts(normalize=True)[1]*100\n",
    "N_2015_3_U = dados2015.Internet[(dados2015.Zona == \"Urbana\") & (dados2015.Região == \"Norte\") & (dados2015.Renda > 1576)].value_counts(normalize=True)[0]*100\n",
    "\n",
    "N_2015_1_R = dados2015.Internet[(dados2015.Zona == \"Rural\") & (dados2015.Região == \"Norte\") & (dados2015.Renda <= 788)].value_counts(normalize=True)[1]*100\n",
    "N_2015_2_R = dados2015.Internet[(dados2015.Zona == \"Rural\") & (dados2015.Região == \"Norte\") & (dados2015.Renda <= 1576) & (dados2015.Renda > 788)].value_counts(normalize=True)[1]*100\n",
    "N_2015_3_R = dados2015.Internet[(dados2015.Zona == \"Rural\") & (dados2015.Região == \"Norte\") & (dados2015.Renda > 1576)].value_counts(normalize=True)[1]*100\n",
    "\n",
    "coluna = [\"Até 1 S.M\", \"Entre 1 e 2 S.M\", \"Mais que 2 S.M\"]\n",
    "linha = [\"2013 Urbana\", \"2013 Rural\", \"2015 Urbana\", \"2015 Rural\"]\n",
    "tab_N = pd.DataFrame(np.array([[N_2013_1_U, N_2013_2_U, N_2013_3_U], [N_2013_1_R, N_2013_2_R, N_2013_3_R], [N_2015_1_U, N_2015_2_U, N_2015_3_U], [N_2015_1_R, N_2015_2_R, N_2015_3_R]]), index=linha, columns=coluna)\n",
    "tab_N"
   ]
  },
  {
   "cell_type": "code",
   "execution_count": 345,
   "metadata": {},
   "outputs": [
    {
     "data": {
      "image/png": "[encoded data removed]",
      "text/plain": [
       "<matplotlib.figure.Figure at 0x1beaf711c88>"
      ]
     },
     "metadata": {},
     "output_type": "display_data"
    }
   ],
   "source": [
    "tab_N.plot(kind=\"bar\", title=\"Norte - Acesso à Internet\", colormap=\"autumn\")\n",
    "plt.ylabel('Freq.Relativa (em %)')\n",
    "ax = plt.subplot(111)\n",
    "box = ax.get_position()\n",
    "ax.set_position([box.x0, box.y0, box.width * 0.8, box.height])\n",
    "ax.legend(loc='center left', bbox_to_anchor=(1, 0.5))\n",
    "plt.show()"
   ]
  },
  {
   "cell_type": "markdown",
   "metadata": {},
   "source": [
    "Para analisar por completo as tabelas e gráficos acima é necessária a comparação com os gráficos e tabelas anteriormente analisados. Observando as análises anteriores é possível perceber que na zona urbana da região Norte, em 2013, 47% do total de domicílios tinha acesso à internet, contudo, observando o gráfico acima, é possível ver que apenas a faixa de renda de acima de 2 salários minímos possui um percentual de acesso à internet maior ou igual ao percentual geral. A mesma coisa ocorre para os outros anos e zonas, o que aponta uma tendência de as faixas de renda menores não acompanharem o percentual geral de acesso à internet.\n"
   ]
  },
  {
   "cell_type": "code",
   "execution_count": 271,
   "metadata": {},
   "outputs": [
    {
     "data": {
      "text/html": [
       "<div>\n",
       "<table border=\"1\" class=\"dataframe\">\n",
       "  <thead>\n",
       "    <tr style=\"text-align: right;\">\n",
       "      <th></th>\n",
       "      <th>Até 1 S.M</th>\n",
       "      <th>Entre 1 e 2 S.M</th>\n",
       "      <th>Mais que 2 S.M</th>\n",
       "    </tr>\n",
       "  </thead>\n",
       "  <tbody>\n",
       "    <tr>\n",
       "      <th>2013 Urbana</th>\n",
       "      <td>21.196222</td>\n",
       "      <td>30.467665</td>\n",
       "      <td>69.784796</td>\n",
       "    </tr>\n",
       "    <tr>\n",
       "      <th>2013 Rural</th>\n",
       "      <td>5.139186</td>\n",
       "      <td>7.239819</td>\n",
       "      <td>30.686518</td>\n",
       "    </tr>\n",
       "    <tr>\n",
       "      <th>2015 Urbana</th>\n",
       "      <td>29.638854</td>\n",
       "      <td>48.520536</td>\n",
       "      <td>78.841384</td>\n",
       "    </tr>\n",
       "    <tr>\n",
       "      <th>2015 Rural</th>\n",
       "      <td>10.940919</td>\n",
       "      <td>18.192771</td>\n",
       "      <td>43.782383</td>\n",
       "    </tr>\n",
       "  </tbody>\n",
       "</table>\n",
       "</div>"
      ],
      "text/plain": [
       "             Até 1 S.M  Entre 1 e 2 S.M  Mais que 2 S.M\n",
       "2013 Urbana  21.196222        30.467665       69.784796\n",
       "2013 Rural    5.139186         7.239819       30.686518\n",
       "2015 Urbana  29.638854        48.520536       78.841384\n",
       "2015 Rural   10.940919        18.192771       43.782383"
      ]
     },
     "execution_count": 271,
     "metadata": {},
     "output_type": "execute_result"
    }
   ],
   "source": [
    "# Sudeste\n",
    "S_2013_1_U = dados2013.Internet[(dados2013.Zona == \"Urbana\") & (dados2013.Região == \"Sudeste\") & (dados2013.Renda <= 678)].value_counts(normalize=True)[1]*100\n",
    "S_2013_2_U = dados2013.Internet[(dados2013.Zona == \"Urbana\") & (dados2013.Região == \"Sudeste\") & (dados2013.Renda <= 1356) & (dados2015.Renda > 678)].value_counts(normalize=True)[1]*100\n",
    "S_2013_3_U = dados2013.Internet[(dados2013.Zona == \"Urbana\") & (dados2013.Região == \"Sudeste\") & (dados2013.Renda > 1356)].value_counts(normalize=True)[0]*100\n",
    "\n",
    "S_2013_1_R = dados2013.Internet[(dados2013.Zona == \"Rural\") & (dados2013.Região == \"Sudeste\") & (dados2013.Renda <= 678)].value_counts(normalize=True)[1]*100\n",
    "S_2013_2_R = dados2013.Internet[(dados2013.Zona == \"Rural\") & (dados2013.Região == \"Sudeste\") & (dados2013.Renda <= 1356) & (dados2015.Renda > 678)].value_counts(normalize=True)[1]*100\n",
    "S_2013_3_R = dados2013.Internet[(dados2013.Zona == \"Rural\") & (dados2013.Região == \"Sudeste\") & (dados2013.Renda > 1356)].value_counts(normalize=True)[1]*100\n",
    "\n",
    "S_2015_1_U = dados2015.Internet[(dados2015.Zona == \"Urbana\") & (dados2015.Região == \"Sudeste\") & (dados2015.Renda <= 788)].value_counts(normalize=True)[1]*100\n",
    "S_2015_2_U = dados2015.Internet[(dados2015.Zona == \"Urbana\") & (dados2015.Região == \"Sudeste\") & (dados2015.Renda <= 1576) & (dados2015.Renda > 788)].value_counts(normalize=True)[1]*100\n",
    "S_2015_3_U = dados2015.Internet[(dados2015.Zona == \"Urbana\") & (dados2015.Região == \"Sudeste\") & (dados2015.Renda > 1576)].value_counts(normalize=True)[0]*100\n",
    "\n",
    "S_2015_1_R = dados2015.Internet[(dados2015.Zona == \"Rural\") & (dados2015.Região == \"Sudeste\") & (dados2015.Renda <= 788)].value_counts(normalize=True)[1]*100\n",
    "S_2015_2_R = dados2015.Internet[(dados2015.Zona == \"Rural\") & (dados2015.Região == \"Sudeste\") & (dados2015.Renda <= 1576) & (dados2015.Renda > 788)].value_counts(normalize=True)[1]*100\n",
    "S_2015_3_R = dados2015.Internet[(dados2015.Zona == \"Rural\") & (dados2015.Região == \"Sudeste\") & (dados2015.Renda > 1576)].value_counts(normalize=True)[1]*100\n",
    "\n",
    "coluna = [\"Até 1 S.M\", \"Entre 1 e 2 S.M\", \"Mais que 2 S.M\"]\n",
    "linha = [\"2013 Urbana\", \"2013 Rural\", \"2015 Urbana\", \"2015 Rural\"]\n",
    "tab_S = pd.DataFrame(np.array([[S_2013_1_U, S_2013_2_U, S_2013_3_U], [S_2013_1_R, S_2013_2_R, S_2013_3_R], [S_2015_1_U, S_2015_2_U, S_2015_3_U], [S_2015_1_R, S_2015_2_R, S_2015_3_R]]), index=linha, columns=coluna)\n",
    "tab_S"
   ]
  },
  {
   "cell_type": "code",
   "execution_count": 344,
   "metadata": {},
   "outputs": [
    {
     "data": {
      "image/png": "[encoded data removed]",
      "text/plain": [
       "<matplotlib.figure.Figure at 0x1beaf595d68>"
      ]
     },
     "metadata": {},
     "output_type": "display_data"
    }
   ],
   "source": [
    "tab_S.plot(kind=\"bar\", title=\"Sudeste - Acesso à Internet\", colormap=\"autumn\")\n",
    "plt.ylabel('Freq.Relativa (em %)')\n",
    "ax = plt.subplot(111)\n",
    "box = ax.get_position()\n",
    "ax.set_position([box.x0, box.y0, box.width * 0.8, box.height])\n",
    "ax.legend(loc='center left', bbox_to_anchor=(1, 0.5))\n",
    "plt.show()"
   ]
  },
  {
   "cell_type": "markdown",
   "metadata": {},
   "source": [
    "Para analisar por completo as tabelas e gráficos acima é necessária a comparação com os gráficos e tabelas anteriormente analisados. Observando as análises anteriores é possível perceber que na zona urbana da região Sudeste, em 2013, 59% do total de domicílios tinha acesso à internet, contudo, observando o gráfico acima, é possível ver que apenas a faixa de renda de acima de 2 salários minímos possui um percentual de acesso à internet maior ou igual ao percentual geral. A mesma coisa ocorre para os outros anos e zonas, o que aponta uma tendência de as faixas de renda menores não acompanharem o percentual geral de acesso à internet."
   ]
  },
  {
   "cell_type": "markdown",
   "metadata": {},
   "source": [
    "___\n",
    "## Conclusão "
   ]
  },
  {
   "cell_type": "markdown",
   "metadata": {
    "collapsed": true
   },
   "source": [
    "Apos analisar todos as tabelas e gráficos obtidos através da base de dados, foi possível chegar a diversas conclusões sobre o comportamento do acesso à internet nas regiões Norte e Sudeste e nas suas diferentes zonas ao longo dos 3 anos.\n",
    "\n",
    "Primeiramente, foi observado que o Norte tem percentualmente mais domicílios na zona rural em comparação com o Sudeste. Contudo, observou-se que a relação de crescimento percentual de acesso à internet é inverso à quantidade de domicílos em cada zona na região Sudeste, ou seja, apesar de a região Sudeste apresentar um maior percentual de domicílos na região urbana, seu maior crescimento percentual de acesso à internet foi na zona rural, enquanto que na região Norte, esse crescimento foi condizente com a quantidade de domicílios em cada zona, sendo ambos maiores na zona urbana. Além disso, foi observado que a região Norte teve um maior aumento percentual total que a região Sudeste.\n",
    "\n",
    "Finalmente, à partir dos resultados de aumento percentual de acesso à internet ao longo dos 3 anos, foi possível criar um novo gráfico que indica o percentual total das diferentes faixas de renda (de até um salário mínimo, de um a dois salários mínimos, de mais de dois salários mínimos), em comparação com o total geral. Após análises desses dados, foi possível perceber que as faixas de rendas menores tem o seu percentual relativo de acesso à internet menor que o percentual total geral, o que indica que elas são desfavorecidas nesse aspecto e que o percentual total geral não é compatível com o percentual relativo de todas as faixas de renda."
   ]
  }
 ],
 "metadata": {
  "anaconda-cloud": {},
  "kernelspec": {
   "display_name": "Python 3",
   "language": "python",
   "name": "python3"
  },
  "language_info": {
   "codemirror_mode": {
    "name": "ipython",
    "version": 3
   },
   "file_extension": ".py",
   "mimetype": "text/x-python",
   "name": "python",
   "nbconvert_exporter": "python",
   "pygments_lexer": "ipython3",
   "version": "3.6.0"
  }
 },
 "nbformat": 4,
 "nbformat_minor": 1
}
